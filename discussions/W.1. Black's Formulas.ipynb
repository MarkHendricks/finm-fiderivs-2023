{
 "cells": [
  {
   "cell_type": "markdown",
   "id": "0c96d530",
   "metadata": {},
   "source": [
    "# Week 1 - Black's Formulas\n",
    "\n",
    "\n",
    "## FINM 37500: Fixed Income Derivatives\n",
    "\n",
    "### Mark Hendricks\n",
    "\n",
    "#### Spring 2023"
   ]
  },
  {
   "cell_type": "markdown",
   "id": "7a83f8f5",
   "metadata": {},
   "source": [
    "### Notation\n",
    "\n",
    "$$\\newcommand{\\Ern}{E^*}$$\n",
    "$$\\newcommand{\\Efwd}{\\tilde{E}}$$\n",
    "$$\\newcommand{\\hedge}{\\beta}$$\n",
    "$$\\newcommand{\\dt}{\\Delta t}$$\n",
    "\n",
    "$\\newcommand{\\dvd}{D}$\n",
    "$\\newcommand{\\pvdvd}{D^*}$\n",
    "$\\newcommand{\\pvstrike}{K^*}$\n",
    "$\\newcommand{\\strike}{K}$\n",
    "\n",
    "$\\newcommand{\\nargcond}{d_{1}}$\n",
    "$\\newcommand{\\nargexer}{d_{2}}$\n",
    "\n",
    "$\\newcommand{\\EcondS}{\\hat{S}_{\\text{conditional}}}$\n",
    "$\\newcommand{\\probexer}{\\hat{\\mathcal{P}}_{\\text{exercise}}}$"
   ]
  },
  {
   "cell_type": "markdown",
   "id": "0c298cfa",
   "metadata": {},
   "source": [
    "# Black Scholes Revisited"
   ]
  },
  {
   "cell_type": "markdown",
   "id": "247d4abe",
   "metadata": {},
   "source": [
    "## Formula\n",
    "\n",
    "We introduced the **Black Scholes** formula in B.5.\n",
    "\n",
    "$\\begin{align}\n",
    "c_t\\; =&\\; S_t\\mathcal{N}(\\nargcond) - \\pvstrike_t \\mathcal{N}\\left(\\nargexer\\right) \\\\\n",
    "p_t\\; =&\\; \\pvstrike_t\\mathcal{N}\\left(-\\nargexer\\right) - S_t \\mathcal{N}(-\\nargcond)\n",
    "\\end{align}$\n",
    "\n",
    "where $\\nargcond$ and $\\nargexer$ are\n",
    "\n",
    "$\\begin{align}\n",
    "\\nargcond = \\frac{\\ln\\left(\\frac{S_t}{\\strike}\\right) + \\left[r + \\frac{\\sigma^2}{2}\\right]T}{\\sigma\\sqrt{T}} \\hspace{1cm} \n",
    "\\nargexer = \\nargcond -\\sigma\\sqrt{T}\n",
    "\\end{align}$\n",
    "\n",
    "and \n",
    "\n",
    "$$K^* = Z K \\; = e^{-rT} K$$"
   ]
  },
  {
   "cell_type": "markdown",
   "id": "9e7e9a2c",
   "metadata": {},
   "source": [
    "## Context\n",
    "\n",
    "This formula may seem like a black box. \n",
    "\n",
    "Your focus should not be on deriving this formula. However, understanding its assumptions and logic are important for questions of...\n",
    "1. What are the assumptions of the model?\n",
    "1. To which securities can it be applied?\n",
    "1. How does it relate to binomial trees?\n",
    "1. How does it relate to simulation methods?\n",
    "1. What does it reveal more generally?\n",
    "\n",
    "Thus we review the logic and key points of the model.\n",
    "\n",
    "### Stochastic Calculus\n",
    "\n",
    "We assume a familiarity with stochastic processes but not a deep familiarity with them."
   ]
  },
  {
   "cell_type": "markdown",
   "id": "ecb52bd3",
   "metadata": {},
   "source": [
    "# The Black Scholes Model"
   ]
  },
  {
   "cell_type": "markdown",
   "id": "03355922",
   "metadata": {},
   "source": [
    "## Brownian Motion\n",
    "\n",
    "**Brownian Motion** is a key building block of the stochastic processes important in finance.\n",
    "\n",
    "Denote it as $dW_t$.\n",
    "\n",
    "It is analogous to the \"white noise\" (often dentoed $\\epsilon$) in discrete-time process. Specifically, $dW_t$ has...\n",
    "* an expected value (mean) of zero\n",
    "* a variance proprtional to $dt$\n",
    "* is independent between time periods\n",
    "\n",
    "$$dW_t \\sim \\mathcal{N}(0,dt)$$\n",
    "\n",
    "Note that our focus will mostly be on the **differential** of this process, $dW_t$, rather than the level, $W_t$. Nonetheless, we can easily describe discrete changes in $W_t$ as\n",
    "$$W_{T}-W_t \\sim \\mathcal{N}(0,T-t)$$\n",
    "$$W_{t_2}-W_{t_1} \\text{ is independent of }W_{t_1}-W_{t_0}$$\n",
    "\n",
    "### Drift and Volatility\n",
    "\n",
    "Generalize this Brownian motion to include a **drift** and **volatility**.\n",
    "\n",
    "$$dX_t = \\mu dt + \\sigma dW_t$$\n",
    "\n",
    "This is anologus to a discrete-time stochastic process that scales the white noise, $\\epsilon$, to a certain volatility level and adds a mean:\n",
    "\n",
    "$$X_{t+1} - X_t = \\mu + \\sigma \\epsilon_{t+1}$$\n",
    "\n",
    "which allows the increment to be normally distributed with mean $\\mu$ and standard deviation $\\sigma$."
   ]
  },
  {
   "cell_type": "markdown",
   "id": "37129dec",
   "metadata": {},
   "source": [
    "## Stochastic Process for a Stock\n",
    "\n",
    "The stock price, $S_t$, is typically modeled as a **Geometric Brownian Motion (GBM)**.\n",
    "* One could view this as a Brownian Motion for the logarithm of a variable.\n",
    "* It describes the percent change of a variable rather than its differences.\n",
    "\n",
    "$$dS_t = \\mu S_t dt + \\sigma S_t dW_t$$\n",
    "\n",
    "often written as\n",
    "\n",
    "$$\\frac{dS_t}{S_t} = \\mu dt + \\sigma dW_t$$"
   ]
  },
  {
   "cell_type": "markdown",
   "id": "35a5e938",
   "metadata": {},
   "source": [
    "### Assumptions\n",
    "This model assumes that a stock has...\n",
    "* constant mean return of $\\mu$.\n",
    "* constant standard deviation (annualized) of $\\sigma$.\n",
    "* normally distributed returns.\n",
    "\n",
    "### Implications\n",
    "The constant mean and volatility would fit with the classic ideas:\n",
    "* the best guess of a stock return in any given time is $\\mu$, \n",
    "* static risk-management where the best (and only) useful input is $\\sigma$.\n",
    "\n",
    "The first of these ideas is encapsulated in\n",
    "* certain definitions of \"market efficiency\"\n",
    "* the classic popular book \"A Random Walk Down Wall Street\""
   ]
  },
  {
   "cell_type": "markdown",
   "id": "99b53493",
   "metadata": {},
   "source": [
    "### Suitability\n",
    "Do these assumptions make sense?\n",
    "* We will find that options pricing formulas are agnostic about the mean, so this is not particularly important for our baseline models.\n",
    "* The volatility assumption is a problem. To a large extent, more complex options pricing models are focused on this issue."
   ]
  },
  {
   "cell_type": "markdown",
   "id": "37c68efb",
   "metadata": {},
   "source": [
    "## Portfolio and Cash\n",
    "\n",
    "### Cash\n",
    "We model a cash investment as a money-market (or bank) account that pays constant interest rate $r$.\n",
    "\n",
    "$$dB_t = rB_t dt$$\n",
    "\n",
    "Notice that it has a drift term but no diffusion term, $dW_t$. It is risklessly growing at a rate of $r$.\n",
    "\n",
    "### Option\n",
    "Let $f(S,t)$ denote the price (value) of an arbitrary option which depends on $S_t$. "
   ]
  },
  {
   "cell_type": "markdown",
   "id": "56155fd2",
   "metadata": {},
   "source": [
    "## Ito's Lemma\n",
    "Perhaps the most important theorem of stochastic calculus, (for our purposes,) is **Ito's Lemma**. We will not explore it deeply. The key is below.\n",
    "* The differential of an arbitrary function $f(S_t)$ is a simple function of the drift and volatility of the underlying, $S_t$.\n",
    "$$df = \\mu_fdt + \\sigma_f dW_t$$\n",
    "\n",
    "where\n",
    "\n",
    "$$\\mu_f = \\frac{\\partial f(S,t)}{\\partial t} + \\frac{\\partial f(S,t)}{\\partial S}\\mu + \\frac{1}{2}\\sigma^2\\frac{\\partial^2 f(S,t)}{\\partial S^2}$$\n",
    "\n",
    "$$\\sigma_f = \\frac{\\partial f(S,t)}{\\partial S}\\sigma$$"
   ]
  },
  {
   "cell_type": "markdown",
   "id": "891e95a0",
   "metadata": {},
   "source": [
    "### Taylor Approximation?\n",
    "\n",
    "Is Ito's Lemma just the Taylor Approximation in new packaging?\n",
    "\n",
    "Does a discrete-time process have an analogous result?\n",
    "\n",
    "Consider a discrete-time process for returns:\n",
    "\n",
    "$$\\frac{S_{t+1}-S_t}{S_t} \\equiv r_{t+1} = \\mu + \\sigma \\epsilon_{t+1}$$\n",
    "\n",
    "What is the stochastic evolution of log returns, $\\ln(1+r_{t+1})$?\n",
    "\n",
    "#### Note on logs\n",
    "\n",
    "Recall that this log return could also be written as the difference of log prices, or log ratio of prices.\n",
    "\n",
    "$$\\ln(1+r_{t+1}) \\equiv \\ln S_{t+1} - \\ln S_t = \\ln \\frac{S_{t+1}}{S_t}$$"
   ]
  },
  {
   "cell_type": "markdown",
   "id": "bd69298c",
   "metadata": {},
   "source": [
    "### Exercise\n",
    "We know that the value of a forward contract is\n",
    "\n",
    "$$F_t = S_te^{r(T-t)}$$\n",
    "\n",
    "Use Ito's Lemma to write the stochastic process for $F$, assuming a Geometric Brownian Motion for $S_t$."
   ]
  },
  {
   "cell_type": "markdown",
   "id": "c6a80209",
   "metadata": {},
   "source": [
    "## Replication\n",
    "\n",
    "Define a portfolio, $\\Pi_t$, holding shares of the stock and shares of a risk-free money-market (bank) account, $B_t$.\n",
    "\n",
    "$$\\Pi_t = f(S,t) - \\beta_t S_t + \\alpha_t B_t$$\n",
    "\n",
    "What amounts should we choose for $\\beta$ and $\\alpha$?"
   ]
  },
  {
   "cell_type": "markdown",
   "id": "88637306",
   "metadata": {},
   "source": [
    "### Similar to Replication at Tree Node\n",
    "\n",
    "In any given instant, the logic is the same as for the binomial tree replication:\n",
    "1. Choose the stock holding to match the slope of the option.\n",
    "2. Choose the bank holding to match the level of the portfolio value.\n",
    "\n",
    "$\\begin{align}\n",
    "\\beta_t =& \\frac{\\partial f}{\\partial S}\\\\[5pt]\n",
    "\\alpha_t =& \\frac{f_t - \\beta_t S_t}{B_t}\n",
    "\\end{align}$\n",
    "\n",
    "It can be shown that $\\Pi_t$...\n",
    "* is a self-financing strategy. (It does not require additional capital to hold those weights.)\n",
    "* replicates the option\n",
    "\n",
    "so long as the **derivative price** $f$ satisfies the following **partial differential equation**,\n",
    "\n",
    "$$\n",
    "rf = \\frac{\\partial f}{\\partial t} + rS\\frac{\\partial f}{\\partial S} + \\frac{1}{2}\\sigma^2 S^2\\frac{\\partial^2 f}{\\partial S^2}\n",
    "$$"
   ]
  },
  {
   "cell_type": "markdown",
   "id": "3b691677",
   "metadata": {},
   "source": [
    "### Exercise\n",
    "\n",
    "Does the value of a forward satisfy the fundamental equation?\n",
    "\n",
    "Recall that the value of a **forward contract** at any time $t$ is\n",
    "\n",
    "$$f = S - Ke^{-r(T-t)}$$\n",
    "\n",
    "where $K$ denotes the forward rate that was set at the initialization of the contract."
   ]
  },
  {
   "cell_type": "markdown",
   "id": "b2d54185",
   "metadata": {},
   "source": [
    "## The Fundamental Equation\n",
    "\n",
    "The fundamental pde does not fully determine the solution. \n",
    "\n",
    "### Boundary Condition\n",
    "In order to solve this (any!) pde, we need to have the boundary condition.\n",
    "\n",
    "For a derivative, this is simply the contracted payoff. We know that at expiration, ($t=T$), the function $f(S_T)$ is given in the contract.\n",
    "\n",
    "Example: a call option has $f(S_T) = \\max(S_T-K,0)$.\n",
    "\n",
    "This boundary, condition, along with the partial differential equation above, uniquely determines the Black Scholes formula above."
   ]
  },
  {
   "cell_type": "markdown",
   "id": "7ca14432",
   "metadata": {},
   "source": [
    "### Other Options\n",
    "\n",
    "For \n",
    "* an underlying following a GBM process, \n",
    "* this partial differential equation (pde) \n",
    "* along with a boundary condition...\n",
    "gives the following necessary and sufficient condition for a derivative security price.\n",
    "\n",
    "$$f \\text{ satisfies the pde } \\Longleftrightarrow f \\text{is a no-arbitrage derivative price.}$$"
   ]
  },
  {
   "cell_type": "markdown",
   "id": "c15e0d09",
   "metadata": {},
   "source": [
    "## Written as Greeks\n",
    "\n",
    "The fundamental equation can be considered in terms of \"the Greeks\"\n",
    "\n",
    "$$rf = \\Theta + rS\\Delta + \\frac{1}{2}\\sigma^2 S^2\\Gamma $$\n",
    "\n",
    "What is your interpretation of this?"
   ]
  },
  {
   "cell_type": "markdown",
   "id": "5dc58118",
   "metadata": {},
   "source": [
    "### Theta-Gamma\n",
    "\n",
    "This equation gives a direct relationship between theta and gamma.\n",
    "\n",
    "Suppose that $r=0$\n",
    "\n",
    "$$\\Theta = -\\frac{1}{2}\\sigma^2S^2\\Gamma$$\n",
    "\n",
    "That is, other than interest-rate effects, theta exactly offsets the dollar benefit of gamma.\n",
    "\n",
    "Alternatively, consider a delta-hedged portfolio, $\\Delta=0$,\n",
    "$$rf - \\Theta =  \\frac{1}{2}\\sigma^2S^2\\Gamma$$\n",
    "\n",
    "which says that the gamma effect is just enough to compensate for the opportunity cost of the (risk-free) interest rate and theta decay.\n",
    "\n",
    "#### Application: Gamma Collection"
   ]
  },
  {
   "cell_type": "markdown",
   "id": "a093a7c2",
   "metadata": {},
   "source": [
    "# Risk-Neutral Expectation"
   ]
  },
  {
   "cell_type": "markdown",
   "id": "5d67dcf0",
   "metadata": {},
   "source": [
    "Recall that with binomial trees, we could consider the pricing formula to come from\n",
    "* replication of the option\n",
    "* risk-neutral pricing of the option.\n",
    "\n",
    "We have the same here."
   ]
  },
  {
   "cell_type": "markdown",
   "id": "aaac6b9f",
   "metadata": {},
   "source": [
    "### Expected Value\n",
    "\n",
    "Suppose that we want to solve for the expected value of $df$. This is the expected profit or loss over an instantaneous period of time.\n",
    "\n",
    "By Ito's Lemma, we know that the drift of $f$ is\n",
    "\n",
    "$$E[df] = \\frac{\\partial f}{\\partial t} + \\mu S\\frac{\\partial f}{\\partial S} + \\frac{1}{2}\\sigma^2 S^2\\frac{\\partial^2 f}{\\partial S^2}$$\n",
    "\n",
    "This doesn't seem like much progress, as we don't know the form of $f$. And given risk aversion and its associated premia, we have no a priori sense of the expected return on $f$."
   ]
  },
  {
   "cell_type": "markdown",
   "id": "054fa936",
   "metadata": {},
   "source": [
    "### The Risk Neutral Measure\n",
    "\n",
    "By Girsanov's Theorem, there exists a probability measure that is\n",
    "* equivalent to the true probability measure.\n",
    "* already encodes all risk premium (discount) adjustments.\n",
    "\n",
    "Under this probability measure, $\\mathcal{P}^*$, \n",
    "* we can take the expectation of $df$. \n",
    "* every asset's mean return (drift of the differential) is $r$.\n",
    "\n",
    "$$\\Ern[df] = \\frac{\\partial f}{\\partial t} + rS\\frac{\\partial f}{\\partial S} + \\frac{1}{2}\\sigma^2 S^2\\frac{\\partial^2 f}{\\partial S^2}$$\n",
    "\n",
    "This expected value must equal the amount earned on the risk-free rate multiplied by this capital, $rf$. Equating these, we have the fundamental pde.\n",
    "\n",
    "$$rf = \\frac{\\partial f}{\\partial t} + rS\\frac{\\partial f}{\\partial S} + \\frac{1}{2}\\sigma^2 S^2\\frac{\\partial^2 f}{\\partial S^2}$$"
   ]
  },
  {
   "cell_type": "markdown",
   "id": "4957122d",
   "metadata": {},
   "source": [
    "### Risk Neutral Pricing\n",
    "\n",
    "We can use this risk-neutral expectation not just for the increments, but for the level.\n",
    "* Do this directly.\n",
    "* or integrate the increments above.\n",
    "\n",
    "$$f(S,t)e^{r(T-t)} = \\Ern[f(S,T)]$$\n",
    "\n",
    "$$f(S,t) = e^{-r(T-t)}\\Ern[f(S,T)]$$\n",
    "\n",
    "Under the risk-neutral measure, $f$ is still a Brownian motion--just with a different drift. \n",
    "* It has a normal distribution\n",
    "* Its expectation will involve a normal distribution function."
   ]
  },
  {
   "cell_type": "markdown",
   "id": "6102aed8",
   "metadata": {},
   "source": [
    "#### BS Formula as an expectation\n",
    "\n",
    "In the introduction to Black-Scholes, we noted it could be rewritten as a \n",
    "\n",
    "$\\begin{align}\n",
    "c_t =& \\;  e^{-r\\tau}\\; \\probexer\\left[\\EcondS - \\strike\\right]\n",
    "\\end{align}$\n",
    "\n",
    "where\n",
    "\n",
    "$\\begin{align}\n",
    "\\probexer \\equiv & \\; \\mathcal{N}(\\nargexer) \\hspace{.5in} \n",
    "\\EcondS \\equiv \\; S_t e^{r\\tau}\\frac{\\mathcal{N}(\\nargcond)}{\\mathcal{N}(\\nargexer)}\n",
    "\\end{align}$\n",
    "\n",
    "These are **risk-neutral** expectations.\n",
    "* Note that $\\mu$ never appears! \n",
    "* How would it be possible to say the likelihood of $S$ being above $K$ if we don't know its growth rate, $\\mu$?\n",
    "* Because these are the risk-neutral probabilities and expectation."
   ]
  },
  {
   "cell_type": "markdown",
   "id": "703d4a7f",
   "metadata": {},
   "source": [
    "## The Martingale Equation\n",
    "\n",
    "Recall the value of the money-market (bank) account is\n",
    "$$B(t,T) = e^{r(T-t)}$$\n",
    "\n",
    "Rewrite the valuation formula as\n",
    "$$\\frac{f(S,t)}{B(t)} = \\Ern\\left[\\frac{f(S,T)}{B(T)}\\right]$$\n",
    "\n",
    "This seems like a mess, but it contains an important framework:\n",
    "* The price of a security is a martingale under the appropriate risk measure."
   ]
  },
  {
   "cell_type": "markdown",
   "id": "8ab48284",
   "metadata": {},
   "source": [
    "### Martingale\n",
    "\n",
    "A process, $X$, is a martingale under probability measure, $\\mathcal{P}$ if the expectation of any future value is simply today's value.\n",
    "$$X_t = E_t[X_{T}]$$\n",
    "for any $T>t$, where $E_t$ denotes the expectation conditional on info up to $t$, under the $\\mathcal{P}$ probability measure.\n",
    "\n",
    "#### Exercise\n",
    "Which of these are a martingale? Which measure?\n",
    "* Stock price\n",
    "* Stock return\n",
    "* Forward price\n",
    "* Option price\n",
    "* Interest rate"
   ]
  },
  {
   "cell_type": "markdown",
   "id": "d761f784",
   "metadata": {},
   "source": [
    "# Black's Model (76)"
   ]
  },
  {
   "cell_type": "markdown",
   "id": "d5da338f",
   "metadata": {},
   "source": [
    "## Beyond Black Scholes\n",
    "\n",
    "As you have seen, Black-Scholes is the **baseline model**\n",
    "* not just for pedagogy\n",
    "* hedging\n",
    "* pricing\n",
    "\n",
    "However, we quickly see we need a more general version.\n",
    "\n",
    "### Underlying is not a traded security\n",
    "\n",
    "We use **security** broadly. \n",
    "* Should include any cashflow associated with the investment.\n",
    "\n",
    "Explain\n",
    "* What is a derivative whose underlying is not a security?\n",
    "* What is the problem with this in the BS model?"
   ]
  },
  {
   "cell_type": "markdown",
   "id": "36de9e0c",
   "metadata": {},
   "source": [
    "## Black's Formula w/ Constant Interest Rates\n",
    "\n",
    "The model assumes \n",
    "* a lognormal distribution of future (forward) prices\n",
    "* constant interest rates\n",
    "\n",
    "It can be derived from the martingale equation\n",
    "$$\\frac{f(F,t)}{B(t)} = \\Ern\\left[\\frac{f(F,T)}{B(T)}\\right]$$\n",
    "\n",
    "\n",
    "$\\begin{align}\n",
    "c_t\\; =&\\; e^{-r(T-t)}\\left[F_t\\mathcal{N}(\\nargcond) - \\strike \\mathcal{N}\\left(\\nargexer\\right)\\right]\\\\\n",
    "p_t\\; =&\\; e^{-r(T-t)}\\left[\\strike\\mathcal{N}(-\\nargexer) - F_t \\mathcal{N}\\left(-\\nargcond\\right)\\right]\n",
    "\\end{align}$\n",
    "\n",
    "where $\\nargcond$ and $\\nargexer$ are\n",
    "\n",
    "$\\begin{align}\n",
    "\\nargcond = \\frac{\\ln\\left(\\frac{F_t}{\\strike}\\right) + \\frac{\\sigma^2}{2}T}{\\sigma\\sqrt{T}} \\hspace{1cm} \n",
    "\\nargexer = \\nargcond -\\sigma\\sqrt{T}\n",
    "\\end{align}$"
   ]
  },
  {
   "cell_type": "markdown",
   "id": "062fcd5f",
   "metadata": {},
   "source": [
    "### What is the difference?\n",
    "\n",
    "This seems exactly like Black Scholes but replacing $S_t$ with $e^{-r(T-t)}F_t$!\n",
    "\n",
    "What is the difference?"
   ]
  },
  {
   "cell_type": "markdown",
   "id": "28495c9b",
   "metadata": {},
   "source": [
    "## Use of Black's Model\n",
    "\n",
    "### European Spot Options\n",
    "\n",
    "We know that at expiration, $F_t=S_t$.\n",
    "* Thus, a European option on either will have the same price, given that they will (surely!) have the same final payoff.\n",
    "\n",
    "What is the advantage then to evaluating the option on the future (forward?)\n",
    "* No need to model dividends!\n",
    "* They are already priced into the forward / future.\n",
    "* Thus, the forward/future price still obeys our model above.\n",
    "\n",
    "### Currency options\n",
    "\n",
    "What is the problem with an option on currency? \n",
    "* Why might its total return not correspond to a GBM of its price?\n",
    "\n",
    "### Consumption investments\n",
    "We learned that many commodities have storage costs, convenience yields, and other forms of carry.\n",
    "* How would this impact the Black-Scholes series."
   ]
  },
  {
   "cell_type": "markdown",
   "id": "4ed39cd9",
   "metadata": {},
   "source": [
    "### Exercise\n",
    "\n",
    "Consider a put on a futures contract on crude oil.\n",
    "* $F_0 = 100$\n",
    "* $K = 100$\n",
    "* $r = 0.025$\n",
    "* $\\sigma = .25$\n",
    "* $T = .25$\n",
    "\n",
    "What is the present value of the put?"
   ]
  },
  {
   "cell_type": "markdown",
   "id": "c1fd8281",
   "metadata": {},
   "source": [
    "### American Futures Options\n",
    "\n",
    "Will traders use futures (and Black's model) to price American spot options?\n",
    "\n",
    "That is to say, for american style,\n",
    "* will a call on a future equal the value of a call on the spot?\n",
    "\n",
    "Consider the case of\n",
    "* contango\n",
    "* backwardation\n",
    "* the future expiring later than the option."
   ]
  },
  {
   "cell_type": "markdown",
   "id": "6d5658d5",
   "metadata": {},
   "source": [
    "# The General Model"
   ]
  },
  {
   "cell_type": "markdown",
   "id": "0bae11b9",
   "metadata": {},
   "source": [
    "Black's model above is still not enough.\n",
    "* It assumes constant interest rates.\n",
    "* Clearly this would be an absurd assumption for interest-rate derivatives!\n",
    "\n",
    "## The Complication\n",
    "\n",
    "Allowing for a time-varying interest rate may not seem like a big deal. However, consider the risk-neutral valuation formula from above\n",
    "\n",
    "$$f(r,t) = e^{-r(T-t)}\\Ern[f(r,T)]$$\n",
    "\n",
    "But now the interest rate for discounting is stochastic, so the present-value discounting is more complicated:\n",
    "\n",
    "$$f(r,t) = \\Ern\\left[e^{-\\int_t^Tr(\\tau)d\\tau}f(r,T)\\right]$$\n",
    "\n",
    "The fact that the stochastic variable, $r$, appears in both terms of the product greatly complicates finding the expectation. \n",
    "* Even if we model r as normally or lognormally distributed, this will be a mess."
   ]
  },
  {
   "cell_type": "markdown",
   "id": "c4028d07",
   "metadata": {},
   "source": [
    "## Forward Measures\n",
    "\n",
    "The solution is to switch probability measures.\n",
    "* We relied on the risk-neutral measure to eliminate risk premia.\n",
    "* Other probability measures will change the drift in other ways.\n",
    "\n",
    "By using the so-called **change of numeraire** and Girsanov's Theorem, we can rebase by any traded asset to get a new probability measure.\n",
    "\n",
    "It will induce a martingale of the ratio.\n",
    "\n",
    "#### We choose the zero-coupon bond as the numeraire\n",
    "\n",
    "Thus, we rebase by $Z(t,T)$."
   ]
  },
  {
   "cell_type": "markdown",
   "id": "453618e8",
   "metadata": {},
   "source": [
    "## The Martingale\n",
    "\n",
    "Under the **forward measure**, any derivative of a forward is a martingale:\n",
    "$$\\frac{f(F,t)}{Z(t,T)} = \\Efwd\\left[\\frac{f(F,T)}{Z(T,T)}\\right]$$\n",
    "\n",
    "where $F$ denotes the forward of an arbitrary asset.\n",
    "\n",
    "That is, we have the price as \n",
    "$$f(F,t) = Z(t,T)\\Efwd\\left[f(F,T)\\right]$$\n",
    "\n",
    "Thus, we can discount just with today's discount factor rather than the stochastic interest rate."
   ]
  },
  {
   "cell_type": "markdown",
   "id": "dac1890d",
   "metadata": {},
   "source": [
    "## The Formula\n",
    "\n",
    "$\\begin{align}\n",
    "c_t\\; =&\\; Z(t,T)\\left[F_t\\mathcal{N}(\\nargcond) - \\strike \\mathcal{N}\\left(\\nargexer\\right)\\right]\\\\\n",
    "p_t\\; =&\\; Z(t,T)\\left[\\strike\\mathcal{N}(-\\nargexer) - F_t \\mathcal{N}\\left(-\\nargcond\\right)\\right]\n",
    "\\end{align}$\n",
    "\n",
    "where $\\nargcond$ and $\\nargexer$ are\n",
    "\n",
    "$\\begin{align}\n",
    "\\nargcond = \\frac{\\ln\\left(\\frac{F_t}{\\strike}\\right) + \\frac{\\sigma^2}{2}T}{\\sigma\\sqrt{T}} \\hspace{1cm} \n",
    "\\nargexer = \\nargcond -\\sigma\\sqrt{T}\n",
    "\\end{align}$"
   ]
  }
 ],
 "metadata": {
  "hide_input": false,
  "kernelspec": {
   "display_name": "Python 3 (ipykernel)",
   "language": "python",
   "name": "python3"
  },
  "language_info": {
   "codemirror_mode": {
    "name": "ipython",
    "version": 3
   },
   "file_extension": ".py",
   "mimetype": "text/x-python",
   "name": "python",
   "nbconvert_exporter": "python",
   "pygments_lexer": "ipython3",
   "version": "3.9.6"
  }
 },
 "nbformat": 4,
 "nbformat_minor": 5
}
