{
 "cells": [
  {
   "cell_type": "markdown",
   "id": "0cc2bd13",
   "metadata": {},
   "source": [
    "# Homework 2\n",
    "\n",
    "## FINM 37500 - 2023\n",
    "\n",
    "### UChicago Financial Mathematics\n",
    "\n",
    "* Mark Hendricks\n",
    "* hendricks@uchicago.edu"
   ]
  },
  {
   "cell_type": "markdown",
   "id": "2c5f237d",
   "metadata": {},
   "source": [
    "# 1. Stripping Caps"
   ]
  },
  {
   "cell_type": "markdown",
   "id": "776ba80e",
   "metadata": {},
   "source": [
    "The file `data/cap_curves_2023-03-31.xlsx` has market data on the following curves:\n",
    "* swap rates (SOFR)\n",
    "* discount factors\n",
    "* forward rates \n",
    "* flat volatilites\n",
    "\n",
    "A few details\n",
    "* the swap and forward rates are quarterly compounded.\n",
    "* the flat volatilites are (Black) quotes on caps containing caplets ranging from expiration of $\\tau=.5$ to $\\tau=T$.\n",
    "* the details of the data prep can be found in `build_data/Process Cap Quotes`."
   ]
  },
  {
   "cell_type": "markdown",
   "id": "0095e4c0",
   "metadata": {},
   "source": [
    "## Context\n",
    "\n",
    "Recall that \n",
    "* a cap is made of caplets with $.5\\le \\tau \\le T$\n",
    "* the flat volatility at $T$ is input for every caplet corresponding to the cap of $T$.\n",
    "* use Black's formula for this calculation.\n",
    "* in Black's formula, use $T-.25$ as the rate for the caplet is determined one period before it is paid.\n",
    "\n",
    "As for the cap parameters,\n",
    "* the cap's strike is the swap rate with the same tenor. So the $T=2$ cap is struck at the swap rate of $\\tau=2$.\n",
    "* the notional of the cap is $100.\n",
    "* the payoff of each caplet is\n",
    "\n",
    "$$\\frac{100}{n}\\max(r-K,0)$$\n",
    "\n",
    "where $n$ is the frequency; here $n=4$.\n",
    "\n",
    "Thus, the corresponding value in Black's fomula for a caplet is\n",
    "$$P^{\\text{cap}}_{T} = \\frac{100}{n} \\sum_{\\tau=.5}^T B_{\\text{call}}(\\overline{\\sigma}_T, \\tau-.25, K=s_T, f_{\\tau}, Z_{\\tau})$$\n",
    "Note here that for every caplet in cap $T$, we plug in the same \n",
    "* flat vol with tenor $T$.\n",
    "* strike which is the swap rate of maturity $T$.\n",
    "\n",
    "The notation above is using subscripts for tenor / maturity rather than time period. That is, $Z_{\\tau}$ denotes $Z(t, t+\\tau)$ which is today's discount factor for maturity $\\tau$. Similarly for the swap rate of tenor $T$, denoted above $s_T$ and forward rate $f(t,t+\\tau-.25, t+\\tau)$ denoted simply $f_{\\tau}$."
   ]
  },
  {
   "cell_type": "markdown",
   "id": "dafd346d",
   "metadata": {},
   "source": [
    "### Black's Formula\n",
    "Recall Black's formula:\n",
    "\n",
    "$$\\begin{align}\n",
    "B_{\\text{call}}(\\sigma, T, K, f, Z) = &\\; Z\\left[f\\mathcal{N}\\left(d_1\\right) - K\\mathcal{N}(d_2)\\right] \\\\\n",
    "d_1 =& \\frac{\\ln\\left(\\frac{f}{K}\\right) + \\frac{\\sigma^2}{2}T}{\\sigma\\sqrt{T}} \\\\\n",
    "d_2 =& d_1 -\\sigma\\sqrt{T}\n",
    "\\end{align}\n",
    "$$"
   ]
  },
  {
   "cell_type": "markdown",
   "id": "c29b7b66",
   "metadata": {},
   "source": [
    "## 1.1 Cap Prices\n",
    "\n",
    "For each cap maturity, $.5\\le T \\le 10$, use the flat volatility to get the price of the cap.\n",
    "\n",
    "Report the cap prices across expirations, $.5\\le T \\le 10$.\n",
    "\n",
    "Plot the cap prices across expirations."
   ]
  },
  {
   "cell_type": "markdown",
   "id": "d3220ae1",
   "metadata": {},
   "source": [
    "## 1.2 Caplet Prices and Forward Volatilities\n",
    "\n",
    "Using the cap prices, strip out the\n",
    "* caplet prices\n",
    "* forward volatility at $\\tau$ which properly prices caplet $\\tau$ using Black's formula.\n",
    "\n",
    "List and plot the forward volatility versus the flat volatiltiy."
   ]
  }
 ],
 "metadata": {
  "kernelspec": {
   "display_name": "Python 3 (ipykernel)",
   "language": "python",
   "name": "python3"
  },
  "language_info": {
   "codemirror_mode": {
    "name": "ipython",
    "version": 3
   },
   "file_extension": ".py",
   "mimetype": "text/x-python",
   "name": "python",
   "nbconvert_exporter": "python",
   "pygments_lexer": "ipython3",
   "version": "3.9.6"
  }
 },
 "nbformat": 4,
 "nbformat_minor": 5
}
